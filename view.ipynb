{
 "cells": [
  {
   "cell_type": "code",
   "execution_count": null,
   "metadata": {
    "execution": {
     "iopub.execute_input": "2024-12-07T15:13:05.371223Z",
     "iopub.status.busy": "2024-12-07T15:13:05.370893Z",
     "iopub.status.idle": "2024-12-07T15:13:06.536549Z",
     "shell.execute_reply": "2024-12-07T15:13:06.535341Z",
     "shell.execute_reply.started": "2024-12-07T15:13:05.371181Z"
    },
    "trusted": true
   },
   "outputs": [],
   "source": [
    "import pandas as pd # type: ignore\n",
    "import numpy as np # type: ignore"
   ]
  },
  {
   "cell_type": "code",
   "execution_count": null,
   "metadata": {
    "_cell_guid": "b1076dfc-b9ad-4769-8c92-a6c4dae69d19",
    "_uuid": "8f2839f25d086af736a60e9eeb907d3b93b6e0e5",
    "execution": {
     "iopub.execute_input": "2024-12-07T15:13:06.539337Z",
     "iopub.status.busy": "2024-12-07T15:13:06.538766Z",
     "iopub.status.idle": "2024-12-07T15:13:07.511136Z",
     "shell.execute_reply": "2024-12-07T15:13:07.509989Z",
     "shell.execute_reply.started": "2024-12-07T15:13:06.539288Z"
    },
    "trusted": true
   },
   "outputs": [],
   "source": [
    "cancer = pd.read_csv('https://github.com/YBIFoundation/Dataset/raw/main/Cancer.csv',encoding='utf-8-sig')\n"
   ]
  },
  {
   "cell_type": "code",
   "execution_count": null,
   "metadata": {
    "execution": {
     "iopub.execute_input": "2024-12-07T15:13:07.513450Z",
     "iopub.status.busy": "2024-12-07T15:13:07.512897Z",
     "iopub.status.idle": "2024-12-07T15:13:07.555104Z",
     "shell.execute_reply": "2024-12-07T15:13:07.553896Z",
     "shell.execute_reply.started": "2024-12-07T15:13:07.513396Z"
    },
    "trusted": true
   },
   "outputs": [
    {
     "data": {
      "text/plain": [
       "         id diagnosis  ...  fractal_dimension_worst  Unnamed: 32\n",
       "0    842302         M  ...                  0.11890          NaN\n",
       "1    842517         M  ...                  0.08902          NaN\n",
       "2  84300903         M  ...                  0.08758          NaN\n",
       "3  84348301         M  ...                  0.17300          NaN\n",
       "4  84358402         M  ...                  0.07678          NaN\n",
       "\n",
       "[5 rows x 33 columns]\n"
      ]
     },
     "metadata": {},
     "output_type": "display_data"
    }
   ],
   "source": [
    "cancer.head()"
   ]
  },
  {
   "cell_type": "code",
   "execution_count": null,
   "metadata": {
    "execution": {
     "iopub.execute_input": "2024-12-07T15:13:07.557455Z",
     "iopub.status.busy": "2024-12-07T15:13:07.557137Z",
     "iopub.status.idle": "2024-12-07T15:13:07.581700Z",
     "shell.execute_reply": "2024-12-07T15:13:07.580680Z",
     "shell.execute_reply.started": "2024-12-07T15:13:07.557424Z"
    },
    "trusted": true
   },
   "outputs": [
    {
     "data": {
      "text/plain": [
       "<class 'pandas.core.frame.DataFrame'>\n",
       "RangeIndex: 569 entries, 0 to 568\n",
       "Data columns (total 33 columns):\n",
       " #   Column                   Non-Null Count  Dtype  \n",
       "---  ------                   --------------  -----  \n",
       " 0   id                       569 non-null    int64  \n",
       " 1   diagnosis                569 non-null    object \n",
       " 2   radius_mean              569 non-null    float64\n",
       " 3   texture_mean             569 non-null    float64\n",
       " 4   perimeter_mean           569 non-null    float64\n",
       " 5   area_mean                569 non-null    float64\n",
       " 6   smoothness_mean          569 non-null    float64\n",
       " 7   compactness_mean         569 non-null    float64\n",
       " 8   concavity_mean           569 non-null    float64\n",
       " 9   concave points_mean      569 non-null    float64\n",
       " 10  symmetry_mean            569 non-null    float64\n",
       " 11  fractal_dimension_mean   569 non-null    float64\n",
       " 12  radius_se                569 non-null    float64\n",
       " 13  texture_se               569 non-null    float64\n",
       " 14  perimeter_se             569 non-null    float64\n",
       " 15  area_se                  569 non-null    float64\n",
       " 16  smoothness_se            569 non-null    float64\n",
       " 17  compactness_se           569 non-null    float64\n",
       " 18  concavity_se             569 non-null    float64\n",
       " 19  concave points_se        569 non-null    float64\n",
       " 20  symmetry_se              569 non-null    float64\n",
       " 21  fractal_dimension_se     569 non-null    float64\n",
       " 22  radius_worst             569 non-null    float64\n",
       " 23  texture_worst            569 non-null    float64\n",
       " 24  perimeter_worst          569 non-null    float64\n",
       " 25  area_worst               569 non-null    float64\n",
       " 26  smoothness_worst         569 non-null    float64\n",
       " 27  compactness_worst        569 non-null    float64\n",
       " 28  concavity_worst          569 non-null    float64\n",
       " 29  concave points_worst     569 non-null    float64\n",
       " 30  symmetry_worst           569 non-null    float64\n",
       " 31  fractal_dimension_worst  569 non-null    float64\n",
       " 32  Unnamed: 32              0 non-null      float64\n",
       "dtypes: float64(31), int64(1), object(1)\n",
       "memory usage: 146.8+ KB\n"
      ]
     },
     "metadata": {},
     "output_type": "display_data"
    }
   ],
   "source": [
    "cancer.info()"
   ]
  },
  {
   "cell_type": "markdown",
   "metadata": {},
   "source": [
    "'M': Malignant (Ác tính)\n",
    "\n",
    "'B': Benign (Lành tính) "
   ]
  },
  {
   "cell_type": "code",
   "execution_count": null,
   "metadata": {
    "execution": {
     "iopub.execute_input": "2024-12-07T15:17:34.305517Z",
     "iopub.status.busy": "2024-12-07T15:17:34.304861Z",
     "iopub.status.idle": "2024-12-07T15:17:34.313536Z",
     "shell.execute_reply": "2024-12-07T15:17:34.312543Z",
     "shell.execute_reply.started": "2024-12-07T15:17:34.305482Z"
    },
    "trusted": true
   },
   "outputs": [
    {
     "data": {
      "text/plain": [
       "diagnosis\n",
       "B    357\n",
       "M    212\n",
       "Name: count, dtype: int64\n"
      ]
     },
     "metadata": {},
     "output_type": "display_data"
    }
   ],
   "source": [
    "cancer['diagnosis'].value_counts()"
   ]
  },
  {
   "cell_type": "code",
   "execution_count": null,
   "metadata": {},
   "outputs": [],
   "source": []
  },
  {
   "cell_type": "code",
   "execution_count": null,
   "metadata": {},
   "outputs": [],
   "source": []
  }
 ],
 "metadata": {
  "kaggle": {
   "accelerator": "none",
   "dataSources": [],
   "dockerImageVersionId": 30804,
   "isGpuEnabled": false,
   "isInternetEnabled": true,
   "language": "python",
   "sourceType": "notebook"
  },
  "kernelspec": {
   "display_name": "Python 3",
   "language": "python",
   "name": "python3"
  },
  "language_info": {
   "codemirror_mode": {
    "name": "ipython",
    "version": 3
   },
   "file_extension": ".py",
   "mimetype": "text/x-python",
   "name": "python",
   "nbconvert_exporter": "python",
   "pygments_lexer": "ipython3",
   "version": "3.10.14"
  }
 },
 "nbformat": 4,
 "nbformat_minor": 4
}
